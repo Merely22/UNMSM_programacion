{
  "nbformat": 4,
  "nbformat_minor": 0,
  "metadata": {
    "colab": {
      "name": "Prueba_1.ipynb",
      "provenance": [],
      "collapsed_sections": [],
      "include_colab_link": true
    },
    "kernelspec": {
      "name": "python3",
      "display_name": "Python 3"
    }
  },
  "cells": [
    {
      "cell_type": "markdown",
      "metadata": {
        "id": "view-in-github",
        "colab_type": "text"
      },
      "source": [
        "<a href=\"https://colab.research.google.com/github/ryali93/UNMSM_programacion/blob/master/python/Prueba_1.ipynb\" target=\"_parent\"><img src=\"https://colab.research.google.com/assets/colab-badge.svg\" alt=\"Open In Colab\"/></a>"
      ]
    },
    {
      "cell_type": "markdown",
      "metadata": {
        "id": "XVj8RvlXW-FT",
        "colab_type": "text"
      },
      "source": [
        "## Evaluación 1"
      ]
    },
    {
      "cell_type": "markdown",
      "metadata": {
        "id": "wNxBYdZrW3GZ",
        "colab_type": "text"
      },
      "source": [
        "**Ejercicio 1:**\n",
        "\n",
        "%%latex\n",
        "\\begin{eqnarray}\n",
        "\\frac{2^3+10/5}{15}\n",
        "\\end{eqnarray}\n"
      ]
    },
    {
      "cell_type": "markdown",
      "metadata": {
        "id": "tChFbTDTXDRs",
        "colab_type": "text"
      },
      "source": [
        "**Ejercicio 2:**\n",
        "\n",
        "Revertir la palabra 'Hello world'."
      ]
    },
    {
      "cell_type": "markdown",
      "metadata": {
        "id": "pJQ3T7giXK6n",
        "colab_type": "text"
      },
      "source": [
        "**Ejercicio 3:**\n",
        "\n",
        "Cree la siguiente lista [0,0,0] de 2 formas distintas."
      ]
    },
    {
      "cell_type": "markdown",
      "metadata": {
        "id": "yUhIGt1MXPJ9",
        "colab_type": "text"
      },
      "source": [
        "**Ejercicio 4:**\n",
        "\n",
        "Cambie la palabra 'hello' por 'goodbye'"
      ]
    },
    {
      "cell_type": "code",
      "metadata": {
        "id": "5KOufWplXKbL",
        "colab_type": "code",
        "colab": {}
      },
      "source": [
        "lista = [1, 2, [3, 4, ('hello')]]"
      ],
      "execution_count": 0,
      "outputs": []
    },
    {
      "cell_type": "markdown",
      "metadata": {
        "id": "G5gvlXj7XkB4",
        "colab_type": "text"
      },
      "source": [
        "**Ejercicio 5:**\n",
        "\n",
        "Obtenga la palabra 'hello' de los siguiente ejemplos"
      ]
    },
    {
      "cell_type": "code",
      "metadata": {
        "id": "7LZqtfpzXJ3e",
        "colab_type": "code",
        "colab": {}
      },
      "source": [
        "d1 = {'simple_key':'hello'}"
      ],
      "execution_count": 0,
      "outputs": []
    },
    {
      "cell_type": "code",
      "metadata": {
        "id": "0e7JZVDHXtup",
        "colab_type": "code",
        "colab": {}
      },
      "source": [
        "d2 = {'k1':{'k2':'hello'}}"
      ],
      "execution_count": 0,
      "outputs": []
    },
    {
      "cell_type": "code",
      "metadata": {
        "id": "iIRA-K9kZFxw",
        "colab_type": "code",
        "colab": {}
      },
      "source": [
        "estacion = {\n",
        "    \"cate\": \"CO\",\n",
        "    \"cod\": \"105062\",\n",
        "    \"cod_old\": \"000349\",\n",
        "    \"estado\": \"DIFERIDO\",\n",
        "    \"ico\": \"M\",\n",
        "    \"lat\": -5.67175,\n",
        "    \"lon\": -78.89767,\n",
        "    \"nom\": \"hello\"\n",
        "}"
      ],
      "execution_count": 0,
      "outputs": []
    },
    {
      "cell_type": "markdown",
      "metadata": {
        "id": "VWq1nlZTXzDJ",
        "colab_type": "text"
      },
      "source": [
        "**Ejercicio 6:**\n",
        "\n",
        "¿Cuantos números por encima de 20 existen en la siguiente lista. Resuelvalo usando for."
      ]
    },
    {
      "cell_type": "code",
      "metadata": {
        "id": "HrFRXOsyXx-y",
        "colab_type": "code",
        "colab": {}
      },
      "source": [
        "lista = [10, 40, 60, 70, 80]"
      ],
      "execution_count": 0,
      "outputs": []
    },
    {
      "cell_type": "markdown",
      "metadata": {
        "id": "bJADk5f6YAZ7",
        "colab_type": "text"
      },
      "source": [
        "**Ejercicio 7:**\n",
        "\n",
        "Crear un programa que mencione si un número es positivo, negativo o cero."
      ]
    },
    {
      "cell_type": "code",
      "metadata": {
        "id": "NuVNDFnRX_97",
        "colab_type": "code",
        "colab": {}
      },
      "source": [
        "num = [0, -2, 4, 5, 6]"
      ],
      "execution_count": 0,
      "outputs": []
    },
    {
      "cell_type": "markdown",
      "metadata": {
        "id": "q7pw8cS8YNzR",
        "colab_type": "text"
      },
      "source": [
        "**Ejercicio 8:**\n",
        "\n",
        "Crear un programa al que se le ingrese grados Kelvin y devuelva Farenheit y Celcius."
      ]
    }
  ]
}