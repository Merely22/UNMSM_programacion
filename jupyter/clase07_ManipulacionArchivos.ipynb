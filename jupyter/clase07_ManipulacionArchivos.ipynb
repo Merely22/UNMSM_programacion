{
  "nbformat": 4,
  "nbformat_minor": 0,
  "metadata": {
    "colab": {
      "name": "clase07_ManipulacionArchivos.ipynb",
      "version": "0.3.2",
      "provenance": [],
      "collapsed_sections": [],
      "include_colab_link": true
    },
    "kernelspec": {
      "name": "python3",
      "display_name": "Python 3"
    }
  },
  "cells": [
    {
      "cell_type": "markdown",
      "metadata": {
        "id": "view-in-github",
        "colab_type": "text"
      },
      "source": [
        "<a href=\"https://colab.research.google.com/github/ryali93/UNMSM_programacion2019-1/blob/master/jupyter/clase07_ManipulacionArchivos.ipynb\" target=\"_parent\"><img src=\"https://colab.research.google.com/assets/colab-badge.svg\" alt=\"Open In Colab\"/></a>"
      ]
    },
    {
      "cell_type": "markdown",
      "metadata": {
        "id": "3mnoXSdTr_Oa",
        "colab_type": "text"
      },
      "source": [
        "# Clase 07\n",
        "# Manipulación de archivos"
      ]
    },
    {
      "cell_type": "markdown",
      "metadata": {
        "id": "uGIvBamPsYiH",
        "colab_type": "text"
      },
      "source": [
        "En la última década se ha incrementado las fuentes desde las que se puede obtener y desplegar información (datos) que un sistema informatico consume, gestiona y genera. En Python existe una gran variedad de métodos para presentar la salida de datos, los cuales pueden ser impresos de manera legible para los humanos, o escritos a un archivo para su uso futuro. En este capítulo se tratará algunas de las posibilidades.\n"
      ]
    },
    {
      "cell_type": "markdown",
      "metadata": {
        "id": "1fRElhGpTaD6",
        "colab_type": "text"
      },
      "source": [
        "## Función open()\n",
        "\n",
        "Antes de leer o escribir en un archivo, hay que abrirlo utilizando la función open() . Esta función crea un objeto file que se utiliza para llamar a otros métodos de apoyo asociados con ella.\n",
        "\n",
        "Sintaxis:\n",
        "\n",
        "archivo = open(Nombre_archivo ,< Modo Apertura>, < Buffer>)\n",
        "\n",
        "**Nombre_archivo:** El argumento Nombre_archivo es un valor de cadena que contiene el nombre del archivo que se desea acceder.\n",
        "\n",
        "**Modo_apertura:** Determina el modo en el que el archivo tiene que ser abierto, es decir, leer, escribir, añadir, etc. Este es un parámetro opcional y se lee el modo de acceso de archivos por defecto (r).\n",
        "\n",
        "**Búfer:** determina el tamaño del buffer indicado."
      ]
    },
    {
      "cell_type": "markdown",
      "metadata": {
        "id": "IYMtKmOJU3MO",
        "colab_type": "text"
      },
      "source": [
        "| Modos | Descripción |\n",
        "|------|------|\n",
        "|  **r**  | Abre un archivo de sólo lectura. Este es el modo por defecto. |\n",
        "|  **rb**  | Abre un archivo de sólo lectura en formato binario. |\n",
        "|  **r+**  | Abre un archivo en modo de lectura y escritura. |\n",
        "|  **rb+**  | Abre un archivo para lectura y escritura en formato binario. |\n",
        "|  **w**  | Abre un archivo para sólo escritura. Sobrescribe el archivo si existe. Si no existe el archivo, crea un nuevo archivo para escritura. |\n",
        "|  **wb**  | Abre un archivo para escribir en formato binario. Sobrescribe el archivo si existe. Si no existe el archivo, crea un nuevo archivo para escritura. |\n",
        "|  **w+**  | Abre un archivo para escritura y lectura. Sobrescribe el archivo existente. Si no existe el archivo, crea un nuevo archivo para la lectura y la escritura. |\n",
        "|  **WB+** | Abre un archivo para escritura y lectura en formato binario. Sobrescribe el archivo existente. Si no existe el archivo, crea uno nuevo. |\n",
        "|  **un**  | Abre un archivo para anexar. Si no existe el archivo, se crea un nuevo archivo para escritura. |\n",
        "|  **ab**  | Abre un archivo para anexar en formato binario. Si no existe el archivo, se crea un nuevo archivo para escritura. |\n",
        "|  **a+**  | Abre un archivo tanto para anexar y lectura. Si no existe el archivo, se crea un nuevo archivo para la lectura y la escritura. |\n",
        "|  **ab+** | Abre un archivo tanto para anexar y la lectura en formato binario. Si no existe el archivo, se crea un nuevo archivo para la lectura y la escritura. |"
      ]
    },
    {
      "cell_type": "markdown",
      "metadata": {
        "id": "lO8T74KTwj8G",
        "colab_type": "text"
      },
      "source": [
        "### Atributos del objeto File\n",
        "\n",
        "Una vez que se abre un archivo, se puede obtener diversa información relacionada con ese archivo. Aquí está una lista de algunos atributos relacionados con el objeto File:\n",
        "\n",
        "\n",
        "\n",
        "| Atributo | Descripción |\n",
        "|------|------|\n",
        "|  **file.closed**  | Devuelve true si el archivo está cerrado, falso en caso que este abierto. |\n",
        "|  **file.mode**  | Devuelve el modo de acceso con el que se abrió el objeto. |\n",
        "|  **file.name**  | Devuelve el nombre del archivo. |"
      ]
    },
    {
      "cell_type": "code",
      "metadata": {
        "id": "0CTB25uOxRzs",
        "colab_type": "code",
        "colab": {}
      },
      "source": [
        "archivo = open(\"prueba.txt\", \"wb\")\n",
        "print(\"Nombre archivo: \"+ archivo)"
      ],
      "execution_count": 0,
      "outputs": []
    },
    {
      "cell_type": "code",
      "metadata": {
        "id": "uMOgiInTxbWG",
        "colab_type": "code",
        "colab": {}
      },
      "source": [
        "print(\"Esta cerrado?\" + str(archivo.closed))"
      ],
      "execution_count": 0,
      "outputs": []
    },
    {
      "cell_type": "code",
      "metadata": {
        "id": "POl5xFucxgs_",
        "colab_type": "code",
        "colab": {}
      },
      "source": [
        "print(\"Modo de apertura: \" + archivo.mode)"
      ],
      "execution_count": 0,
      "outputs": []
    },
    {
      "cell_type": "code",
      "metadata": {
        "id": "2c39-t9QxmOz",
        "colab_type": "code",
        "colab": {}
      },
      "source": [
        "archivo.close()"
      ],
      "execution_count": 0,
      "outputs": []
    },
    {
      "cell_type": "code",
      "metadata": {
        "id": "kvHGFRc-xofI",
        "colab_type": "code",
        "colab": {}
      },
      "source": [
        "print(\"Esta cerrado?\" + str(archivo.closed))"
      ],
      "execution_count": 0,
      "outputs": []
    },
    {
      "cell_type": "markdown",
      "metadata": {
        "id": "aYrh8koqxuQG",
        "colab_type": "text"
      },
      "source": [
        "Se puede apreciar en el código fuente como que después de ejecutar el método close, se cierra el puntero que estaba sobre el archivo.\n",
        "\n"
      ]
    },
    {
      "cell_type": "markdown",
      "metadata": {
        "id": "S_4lYGHHxxBd",
        "colab_type": "text"
      },
      "source": [
        "## Lectura y escritura de archivos\n",
        "\n",
        "El objeto de File proporciona un conjunto de métodos de acceso para hacernos la vida más fácil. En los siguientes ejemplo vamos a utilizar los métodos  read () y write () para leer y escribir archivos."
      ]
    },
    {
      "cell_type": "markdown",
      "metadata": {
        "id": "YfSmCjmzx00D",
        "colab_type": "text"
      },
      "source": [
        "### Método write()\n",
        "\n",
        "El método de write () escribe cualquier tipo de cadena en un archivo abierto. Es importante tener en cuenta que las cadenas en Python pueden tener datos binarios y no sólo de texto. El método de write() no añade saltos de linea **\\ n** al final de la cadena, por lo que tendremos que agregarlo nosotros en el código:"
      ]
    },
    {
      "cell_type": "code",
      "metadata": {
        "id": "BNeq8Vg1x8iV",
        "colab_type": "code",
        "colab": {}
      },
      "source": [
        "archivo = open(\"prueba.txt\", \"wb\")"
      ],
      "execution_count": 0,
      "outputs": []
    },
    {
      "cell_type": "code",
      "metadata": {
        "id": "iA13VlLMyANd",
        "colab_type": "code",
        "colab": {}
      },
      "source": [
        "archivo.write(\"www.python.org\\n\")\n",
        "archivo.write(\"www.google.com\\n\")\n",
        "archivo.write(\"www.gmail.com\\n\")\n",
        "archivo.close()"
      ],
      "execution_count": 0,
      "outputs": []
    },
    {
      "cell_type": "markdown",
      "metadata": {
        "id": "QYUw1mDYyK77",
        "colab_type": "text"
      },
      "source": [
        "En el ejemplo agregamos 3 host al archivo prueba.txt"
      ]
    },
    {
      "cell_type": "markdown",
      "metadata": {
        "id": "vN9vGygoyzKF",
        "colab_type": "text"
      },
      "source": [
        "### Método read ()\n",
        "\n",
        "El método de read () lee una cadena de un archivo abierto. Es importante tener en cuenta que las cadenas en Python pueden tener datos binarios. Además de los datos de texto.\n",
        "\n"
      ]
    },
    {
      "cell_type": "code",
      "metadata": {
        "id": "7NKqJrwey15m",
        "colab_type": "code",
        "colab": {}
      },
      "source": [
        "archivo = open(\"prueba.txt\", \"r\")\n",
        "contenido = archivo.read()\n",
        "print(contenido)"
      ],
      "execution_count": 0,
      "outputs": []
    },
    {
      "cell_type": "markdown",
      "metadata": {
        "id": "-1Vk0jJLy94g",
        "colab_type": "text"
      },
      "source": [
        "En la línea 1 abrimos en modo lectura (r) el archivo que ya estaba escrito por el ejemplo anterior y utilizamos el método read() para traernos el contenido.\n",
        "\n",
        "En la línea 1 abrimos en modo lectura (r) el archivo que ya estaba escrito por el ejemplo anterior y utilizamos el método read() para traernos el contenido.\n"
      ]
    },
    {
      "cell_type": "code",
      "metadata": {
        "id": "SLvse3y1zAtv",
        "colab_type": "code",
        "colab": {}
      },
      "source": [
        "archivo = open(\"prueba.txt\", \"wb\")\n",
        "archivo.write(\"www.python.org\\n\")\n",
        "archivo.write(\"www.google.com\\n\")\n",
        "archivo.write(\"www.gmail.com\\n\")\n",
        "archivo.close()\n",
        "\n",
        "archivo.open(\"prueba.txt\", \"r\")\n",
        "for lista in archivo.readlines():\n",
        "    print(lista)"
      ],
      "execution_count": 0,
      "outputs": []
    },
    {
      "cell_type": "markdown",
      "metadata": {
        "id": "qOUka0vKzWK0",
        "colab_type": "text"
      },
      "source": [
        "En Python desde la versión 2.5 adelante, nos entrega una forma más fácil de leer archivos con la palabra reservada with."
      ]
    },
    {
      "cell_type": "code",
      "metadata": {
        "id": "vosJ1MkozXKv",
        "colab_type": "code",
        "colab": {}
      },
      "source": [
        "with open(\"prueba.txt\", \"r\") as archivo:\n",
        "    print(archivo.read())"
      ],
      "execution_count": 0,
      "outputs": []
    },
    {
      "cell_type": "markdown",
      "metadata": {
        "id": "kVeM2M_8XVsG",
        "colab_type": "text"
      },
      "source": [
        "A menudo se necesitan listas o secuencias de diferentes valores (por ejemplo, una serie temporal de temperatura, una lista de valores que representan la temperatura en días secuenciales). \n",
        "\n",
        "Hay tres contenedores en el lenguaje python principal. \n",
        "\n",
        "\n",
        "\n",
        "*   Listas\n",
        "*   Tuplas\n",
        "*   Diccionarios\n",
        "\n",
        "\n",
        "Hay algunos contenedores más especializados (por ejemplo, numerosos arrays y marcos de datos de pandas) para usar en computación científica de los que aprenderemos mucho más adelante; son muy similares a los contenedores que aprenderemos aquí."
      ]
    },
    {
      "cell_type": "markdown",
      "metadata": {
        "id": "XI_74rCaXmVh",
        "colab_type": "text"
      },
      "source": [
        "### Listas\n",
        "Las listas son quizás el tipo de contenedor más común. Se utilizan para datos secuenciales. Se crean entre corchetes con valores separados por comas:"
      ]
    },
    {
      "cell_type": "code",
      "metadata": {
        "id": "UzXnhG1JXR0A",
        "colab_type": "code",
        "colab": {}
      },
      "source": [
        "foo = [1., 2., 3, 'cuatro', 'cinco', [6., 7., 8], 'nueve']\n",
        "type(foo)"
      ],
      "execution_count": 0,
      "outputs": []
    },
    {
      "cell_type": "markdown",
      "metadata": {
        "id": "lGLfzOf4X6BD",
        "colab_type": "text"
      },
      "source": [
        "Tenga en cuenta que las listas (a diferencia de las matrices, como veremos más adelante) pueden ser heterogéneas. Es decir, los elementos de la lista no tienen que tener el mismo tipo de datos. ¡Aquí tenemos una lista con float, int, cadenas e incluso otra lista (anidada)!\n",
        "\n",
        "Podemos recuperar los elementos individuales de una lista 'indexando' la lista. Lo hacemos con corchetes, utilizando índices basados en cero, es decir, `0` es el primer elemento, como tal:"
      ]
    },
    {
      "cell_type": "markdown",
      "metadata": {
        "id": "R9_mFeC3YFyt",
        "colab_type": "text"
      },
      "source": [
        "---\n",
        "#### *Ejercicio*\n",
        "\n",
        "¿Qué otros métodos hay? \n",
        "\n",
        " \n",
        "Vea si puede usar estos cuatro métodos de la instancia de la lista 'bar':\n",
        "\n",
        "1. append\n",
        "2. pop\n",
        "3. index\n",
        "4. count\n",
        "---"
      ]
    },
    {
      "cell_type": "code",
      "metadata": {
        "id": "TCMJF3W2Y9go",
        "colab_type": "code",
        "colab": {}
      },
      "source": [
        "bar = [0, 1, 2, 3, 4, 5, 6, 7, 8, 9]"
      ],
      "execution_count": 0,
      "outputs": []
    },
    {
      "cell_type": "markdown",
      "metadata": {
        "id": "seaxEzEBZFUB",
        "colab_type": "text"
      },
      "source": [
        "### Tuplas\n",
        "\n",
        "\n",
        "Las tuplas son secuencias que no pueden modificarse y no tienen métodos. Por lo tanto, están diseñados para ser secuencias inmutables. Se crean como listas, pero con paréntesis en lugar de corchetes."
      ]
    },
    {
      "cell_type": "markdown",
      "metadata": {
        "id": "EIAEGnqxZgAW",
        "colab_type": "text"
      },
      "source": [
        "### Diccionarios\n",
        "\n",
        "Los diccionarios se utilizan para secuencias no ordenadas a las que se hace referencia mediante \"keys\" arbitrarias en lugar de mediante un índice (secuencial). Los diccionarios se crean utilizando llaves con claves y valores separados por dos puntos, y pares **key:value** separados por comas"
      ]
    },
    {
      "cell_type": "code",
      "metadata": {
        "id": "MCZU8Gx3Z8wX",
        "colab_type": "code",
        "colab": {}
      },
      "source": [
        "foobar = {'a':3, 'b':4, 'c':5}"
      ],
      "execution_count": 0,
      "outputs": []
    },
    {
      "cell_type": "code",
      "metadata": {
        "id": "hHxKNo48aCGb",
        "colab_type": "code",
        "colab": {}
      },
      "source": [
        "foobar['b']"
      ],
      "execution_count": 0,
      "outputs": []
    },
    {
      "cell_type": "code",
      "metadata": {
        "id": "wTvlCefsaD39",
        "colab_type": "code",
        "colab": {}
      },
      "source": [
        "# Las claves y los valores se pueden extraer como listas utilizando los métodos de la clase de diccionario.\n",
        "foobar.keys()"
      ],
      "execution_count": 0,
      "outputs": []
    },
    {
      "cell_type": "code",
      "metadata": {
        "id": "9zOWuW94aEZf",
        "colab_type": "code",
        "colab": {}
      },
      "source": [
        "foobar.values()"
      ],
      "execution_count": 0,
      "outputs": []
    },
    {
      "cell_type": "markdown",
      "metadata": {
        "id": "kHKC4t9JaPvO",
        "colab_type": "text"
      },
      "source": [
        "Los nuevos valores se pueden asignar simplemente asignando un valor a una clave que aún no existe"
      ]
    },
    {
      "cell_type": "code",
      "metadata": {
        "id": "idW2BjLMaU7v",
        "colab_type": "code",
        "colab": {}
      },
      "source": [
        "foobar['spam'] = 'eggs'\n",
        "foobar"
      ],
      "execution_count": 0,
      "outputs": []
    },
    {
      "cell_type": "markdown",
      "metadata": {
        "id": "9xTFmdGUaYJ_",
        "colab_type": "text"
      },
      "source": [
        "---\n",
        "#### *Ejercicio*\n",
        "\n",
        "> Crea una variable de diccionario con al menos 3 entradas. Las claves de entrada deben ser el primer nombre de las personas que te rodean en la clase, y el valor debe ser su comida favorita.\n",
        "\n",
        "> Explore los métodos del objeto de diccionario, como se hizo con la instancia de lista en el ejercicio anterior.\n",
        "\n",
        "---"
      ]
    },
    {
      "cell_type": "code",
      "metadata": {
        "id": "ni8lFMOTapJ8",
        "colab_type": "code",
        "colab": {}
      },
      "source": [
        ""
      ],
      "execution_count": 0,
      "outputs": []
    },
    {
      "cell_type": "markdown",
      "metadata": {
        "id": "5FPlRPQraoKS",
        "colab_type": "text"
      },
      "source": [
        "Puedes hacer un diccionario o una lista vacíos usando las funciones **dict** y **list** respectivamente."
      ]
    },
    {
      "cell_type": "code",
      "metadata": {
        "id": "FiVJLsCIajm_",
        "colab_type": "code",
        "colab": {}
      },
      "source": [
        "empty_dict = dict()\n",
        "empty_list = list()\n",
        "print(empty_dict, empty_list)"
      ],
      "execution_count": 0,
      "outputs": []
    },
    {
      "cell_type": "markdown",
      "metadata": {
        "id": "YTRLmuddgULi",
        "colab_type": "text"
      },
      "source": [
        "## 3. Bucles o loops"
      ]
    },
    {
      "cell_type": "markdown",
      "metadata": {
        "id": "7JrMRETfgfrV",
        "colab_type": "text"
      },
      "source": [
        "### for\n",
        "\n",
        "Los bucles son una de las estructuras fundamentales en la programación. Los bucles le permiten iterar sobre cada elemento en una secuencia, uno a la vez, y hacer algo con esos elementos.\n",
        "\n",
        "*Sintaxis de bucle*: Los bucles tienen una sintaxis muy particular en Python; esta sintaxis es una de las características más notables para los nuevos en Python.\n",
        "\n",
        "```\n",
        "for *elemento* en *secuencia*:\n",
        "         <algún código que usa el *elemento*>  # el bloque de código que se identa para cada elemento       \n",
        "         <más código que usa el *elemento*>    # está identado cuatro espacios\n",
        "\n",
        "<el código después de que el bucle continúa> # el final del bucle está marcado por un código sin identación\n",
        "```\n",
        "\n",
        "Por lo tanto, la sangría es significativa para el código. Esto se hizo porque las buenas prácticas de codificación (en casi todos los idiomas, C, FORTRAN, MATLAB) normalmente se identan bucles, funciones, etc. Si la sangría es significativa, se guarda la sintaxis de fin de bucle para un código más compacto."
      ]
    },
    {
      "cell_type": "markdown",
      "metadata": {
        "id": "MdscbZs3llAk",
        "colab_type": "text"
      },
      "source": [
        "* Algunas notas importantes sobre la sangría\n",
        "* La sangría en python es típicamente **4 espacios**. \n",
        "\n",
        "La mayoría de los editores de programación de texto serán inteligentes con respecto a la sangría y también convertirán los TAB en cuatro espacios. \n",
        "\n",
        "Los cuadernos Jupyter son inteligentes con respecto a la sangría y harán lo correcto, es decir, autoindentarán una línea debajo de una línea con dos puntos al final y convertirán los TAB en espacios. Si está en otro editor, recuerde: ___LOS TABS Y LOS ESPACIOS NO SE MEZCLAN___.\n",
        "\n",
        "Un ejemplo simple es encontrar la suma de los cuadrados de la secuencia 0 a 99,"
      ]
    },
    {
      "cell_type": "code",
      "metadata": {
        "id": "xKXRbvjPgXJW",
        "colab_type": "code",
        "colab": {}
      },
      "source": [
        "sum_of_squares = 0\n",
        "\n",
        "for n in range(100):              # el rango produce una secuencia de números desde 0 hasta 100 (sin incluirlo)\n",
        "    sum_of_squares += n**2        # el operador '+ =' es equivalente a 'suma = suma + n ** 2',\n",
        "                                  # el operador '**' es una potencia, como '^' en otros lenguajes\n",
        "\n",
        "print(sum_of_squares)"
      ],
      "execution_count": 0,
      "outputs": []
    },
    {
      "cell_type": "markdown",
      "metadata": {
        "id": "vC3aex1zmZYV",
        "colab_type": "text"
      },
      "source": [
        "Puede iterar sobre cualquier secuencia, y en Python (como MATLAB) es mejor iterar sobre la secuencia que desea que recorrer los índices de esa secuencia. Los siguientes dos ejemplos dan el mismo resultado, pero el primero es mucho más legible y fácil de entender que el segundo. Haz lo primero siempre que sea posible."
      ]
    },
    {
      "cell_type": "code",
      "metadata": {
        "id": "dCgCoLNnmVt0",
        "colab_type": "code",
        "colab": {}
      },
      "source": [
        "# De ser posible, no lo haga de esta manera\n",
        "words = ['este', 'ciclo', 'si', 'me', 'pondre', 'a', 'estudiar']\n",
        "\n",
        "sentence = ''\n",
        "for i in range(len(words)):\n",
        "    sentence += words[i] + ' '\n",
        "\n",
        "sentence"
      ],
      "execution_count": 0,
      "outputs": []
    },
    {
      "cell_type": "markdown",
      "metadata": {
        "id": "ds5UZO0cm1UR",
        "colab_type": "text"
      },
      "source": [
        "A veces desea iterar sobre una secuencia pero también desea los índices de esos elementos. Una forma de hacerlo es la función de enumerar:\n",
        "\n",
        "  enumerar (< secuencia >)\n",
        "\n",
        "Esto devuelve una secuencia de dos tuplas de elementos, el primer elemento en cada tupla es el índice, la segunda el elemento. Se usa comúnmente en bucles, como"
      ]
    },
    {
      "cell_type": "code",
      "metadata": {
        "id": "hcypVCjbm-nz",
        "colab_type": "code",
        "colab": {}
      },
      "source": [
        "for idx, word in enumerate(words):\n",
        "    print('El indice es ', idx, '...')\n",
        "    print('...y la palabra es ', word)"
      ],
      "execution_count": 0,
      "outputs": []
    },
    {
      "cell_type": "markdown",
      "metadata": {
        "id": "I2jiKz9hnmh7",
        "colab_type": "text"
      },
      "source": [
        "#### Comprehension de listas\n",
        "\n",
        "Hay una forma corta de hacer una lista a partir de una regla simple mediante el uso de listas de comprensión. La sintaxis es como\n",
        "\n",
        "[ <element(item)> for item in sequence ]\n",
        "\n",
        "por ejemplo, podemos calcular los cuadrados de los primeros 10 enteros"
      ]
    },
    {
      "cell_type": "code",
      "metadata": {
        "id": "1JUyLiN4oAW0",
        "colab_type": "code",
        "colab": {}
      },
      "source": [
        "[n**2 for n in range(10)]"
      ],
      "execution_count": 0,
      "outputs": []
    },
    {
      "cell_type": "code",
      "metadata": {
        "id": "YGU0hwGdoDT0",
        "colab_type": "code",
        "colab": {}
      },
      "source": [
        "random_list = [1, 2, 'three', 4.0, ['five',]]\n",
        "[isinstance(item, str) for item in random_list]"
      ],
      "execution_count": 0,
      "outputs": []
    },
    {
      "cell_type": "code",
      "metadata": {
        "id": "2AHlBnUQoFCg",
        "colab_type": "code",
        "colab": {}
      },
      "source": [
        "random_list = [1, 2, 'three', 4.0, ['five',]]\n",
        "\n",
        "foo = []\n",
        "for item in random_list:\n",
        "    foo.append(isinstance(item, str))\n",
        "foo"
      ],
      "execution_count": 0,
      "outputs": []
    },
    {
      "cell_type": "markdown",
      "metadata": {
        "id": "yXmAeMhroazF",
        "colab_type": "text"
      },
      "source": [
        "### while\n",
        "\n",
        "La mayoría de los bucles que escribirás serán bucles *for*. Estos son bucles que tienen un número definido de iteraciones, sobre una secuencia específica. Sin embargo, puede haber ocasiones en que no esté claro cuándo debe terminar el ciclo. En este caso, utiliza un bucle *while*. Esto tiene la sintaxis.\n",
        "\n",
        "    while <condition>:\n",
        "        <code>\n",
        "\n",
        "**condition:** debe ser algo que se pueda evaluar cuando se inicia el ciclo, y las variables que determinan el condicional deben modificarse en el ciclo.\n",
        "\n",
        "Este tipo de bucle se debe usar con cuidado: \n",
        "\n",
        "Es relativamente fácil crear accidentalmente un bucle infinito, donde la condición nunca se dispara a detenerse, por lo que el bucle continúa para siempre. Es especialmente importante evitar esto, ya que estamos utilizando recursos compartidos en nuestra clase y un bucle **while** que nunca termina puede causar que la computadora se bloquee.\n",
        "\n",
        "Este es un ejemplo de la integración de una curva infinita que termina cuando el incremento alcanza un valor pequeño (NOTA, esta no es una buena forma de hacer este tipo de cálculo ...)."
      ]
    },
    {
      "cell_type": "code",
      "metadata": {
        "id": "5hO6H_ERoyRu",
        "colab_type": "code",
        "colab": {}
      },
      "source": [
        "i = 1\n",
        "while i <= 50:\n",
        "    print(i)\n",
        "    i = 3 * i + 1\n",
        "print(\"Programa terminado\")"
      ],
      "execution_count": 0,
      "outputs": []
    },
    {
      "cell_type": "markdown",
      "metadata": {
        "id": "nii3Awxtp5il",
        "colab_type": "text"
      },
      "source": [
        "#### Control de flujo\n",
        "\n",
        "Hay algunos comandos que te permiten controlar el flujo de cualquier bucle iterativo: **continue**, **break** y **pass**.\n",
        "\n",
        "- **continue** detiene la iteración actual y continúa al siguiente elemento, si hay uno.\n",
        "\n",
        "- **break** detiene la iteración actual y abandona el bucle.\n",
        "\n",
        "- **pass** no hace nada, y es solo un marcador de posición cuando la sintaxis requiere que algún código tenga que estar presente"
      ]
    },
    {
      "cell_type": "code",
      "metadata": {
        "id": "mM_HTYzSqEEK",
        "colab_type": "code",
        "colab": {}
      },
      "source": [
        "# imprima todos los números hasta  5 (pero no incluido), luego salga del bucle.\n",
        "\n",
        "for n in range(10):\n",
        "    print('.')\n",
        "    if n == 5:\n",
        "        break\n",
        "    print(n)\n",
        "\n",
        "print('done')"
      ],
      "execution_count": 0,
      "outputs": []
    }
  ]
}