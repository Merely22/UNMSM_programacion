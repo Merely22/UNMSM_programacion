{
  "nbformat": 4,
  "nbformat_minor": 0,
  "metadata": {
    "colab": {
      "name": "Ejercicios1.ipynb",
      "version": "0.3.2",
      "provenance": [],
      "collapsed_sections": [
        "xcaS3Oj3DkDY"
      ],
      "include_colab_link": true
    },
    "kernelspec": {
      "name": "python3",
      "display_name": "Python 3"
    }
  },
  "cells": [
    {
      "cell_type": "markdown",
      "metadata": {
        "id": "view-in-github",
        "colab_type": "text"
      },
      "source": [
        "<a href=\"https://colab.research.google.com/github/ryali93/UNMSM_programacion2019-1/blob/master/jupyter/ejercicios1.ipynb\" target=\"_parent\"><img src=\"https://colab.research.google.com/assets/colab-badge.svg\" alt=\"Open In Colab\"/></a>"
      ]
    },
    {
      "metadata": {
        "id": "EN2Eoxq4TCmD",
        "colab_type": "text"
      },
      "cell_type": "markdown",
      "source": [
        "## Indentación\n",
        "Es un tipo de notación utilizado para mejorar la legibilidad del código fuente por parte de los programadores, teniendo en cuenta que los compiladores o intérpretes raramente cosideran los espacios en blanco entre las sentencias de sus programas. En la sintaxis de Python no se encuentra (begin) o (end) explicitos, ni llaves que marquen dónde empieza o termina su código. El único delimitador son dos puntos (:) y el sangrado del propio código."
      ]
    },
    {
      "metadata": {
        "id": "yvKUA6k5UZYA",
        "colab_type": "text"
      },
      "cell_type": "markdown",
      "source": [
        "## Input\n",
        "\n",
        "La función input() permite obtener texto escrito por teclado. Al llegar a la función, el programa se detiene esperando que se escriba algo y se pulse la tecla Intro."
      ]
    },
    {
      "metadata": {
        "id": "xIu7OREJUmxy",
        "colab_type": "code",
        "colab": {}
      },
      "cell_type": "code",
      "source": [
        "print(\"¿Cómo se llama?\")\n",
        "nombre = input()\n",
        "print(f\"Me alegro de conocerle, {nombre}\")"
      ],
      "execution_count": 0,
      "outputs": []
    },
    {
      "metadata": {
        "id": "WAGW9uqiYpZk",
        "colab_type": "text"
      },
      "cell_type": "markdown",
      "source": [
        "## Ejercicios"
      ]
    },
    {
      "metadata": {
        "id": "sYJgCp6qY1W9",
        "colab_type": "text"
      },
      "cell_type": "markdown",
      "source": [
        "### Nivel I:"
      ]
    },
    {
      "metadata": {
        "id": "1Wt9hr33ZMG7",
        "colab_type": "text"
      },
      "cell_type": "markdown",
      "source": [
        " 1. Crear dos variables numéricas, sumarlas y mostrar el resultado que diga: \"El resultado del problema es: \""
      ]
    },
    {
      "metadata": {
        "id": "nkjp5s3FaV6X",
        "colab_type": "text"
      },
      "cell_type": "markdown",
      "source": [
        "2. Realizar una función que devuelva el IGV de un producto."
      ]
    },
    {
      "metadata": {
        "id": "K8onDiooZvU_",
        "colab_type": "text"
      },
      "cell_type": "markdown",
      "source": [
        "3. Realizar una función de dos parámetros numéricos que devuelva el número mayor y diga cuál es (usar print)."
      ]
    },
    {
      "metadata": {
        "id": "susALf6MISW8",
        "colab_type": "text"
      },
      "cell_type": "markdown",
      "source": [
        "4. Mostrar los número pares del 1 al 50"
      ]
    },
    {
      "metadata": {
        "id": "VUtckElMal0B",
        "colab_type": "text"
      },
      "cell_type": "markdown",
      "source": [
        "5. Crea una variable numérica y si esta entre 0 y 10, mostrar un mensaje indicándolo."
      ]
    },
    {
      "metadata": {
        "id": "vHq-a-KdbD62",
        "colab_type": "text"
      },
      "cell_type": "markdown",
      "source": [
        "### Nivel II:"
      ]
    },
    {
      "metadata": {
        "id": "Iup2ax4xbHrW",
        "colab_type": "text"
      },
      "cell_type": "markdown",
      "source": [
        "1. Crea una variable numérica y si esta entre 0 y 10, mostrar un mensaje indicándolo; de la misma forma si está entre 11 y 20, muestre otro mensaje diferente y si esta entre 21 y 30 otro mensaje.\n",
        "\n"
      ]
    },
    {
      "metadata": {
        "id": "nl0uCLrxbGPe",
        "colab_type": "text"
      },
      "cell_type": "markdown",
      "source": [
        "2. Mostrar el índice para cada caracter de su nombre. (Usar sentencia for)"
      ]
    },
    {
      "metadata": {
        "id": "zSIrNhwZFNzL",
        "colab_type": "text"
      },
      "cell_type": "markdown",
      "source": [
        "3. Realizar una función que tome una lista de palabras y devuelva la mas larga."
      ]
    },
    {
      "metadata": {
        "id": "u7umJ5uTIMpL",
        "colab_type": "text"
      },
      "cell_type": "markdown",
      "source": [
        "4. Realizar un programa que identifique cual es la capa de la atmósfera es, de acuerdo a la altitud que se le ingrese."
      ]
    },
    {
      "metadata": {
        "id": "L3LAi24xEt2d",
        "colab_type": "text"
      },
      "cell_type": "markdown",
      "source": [
        "5. Realizar una función para identificar si una palabra es palíndromo."
      ]
    },
    {
      "metadata": {
        "id": "IdxhNrB-T66r",
        "colab_type": "text"
      },
      "cell_type": "markdown",
      "source": [
        "6. Realizar una función que convierta una lista de datos de temperatura de grados Celcius a Kelvin y Farenheit.\n",
        "   * Se considera la representación de los datos"
      ]
    },
    {
      "metadata": {
        "id": "y6TE2ym4bzMe",
        "colab_type": "text"
      },
      "cell_type": "markdown",
      "source": [
        "### Nivel III:"
      ]
    },
    {
      "metadata": {
        "id": "wovrJ8uz6iQW",
        "colab_type": "text"
      },
      "cell_type": "markdown",
      "source": [
        "1. Realizar una función que pida el valor de los tres lados de un triángulo y calcule el valor de su área y perímetro."
      ]
    },
    {
      "metadata": {
        "id": "wKprS2tEcJzs",
        "colab_type": "text"
      },
      "cell_type": "markdown",
      "source": [
        "2. Realizar una función que devuelva el factorial de un número, teniendo como parámetro el número"
      ]
    },
    {
      "metadata": {
        "id": "ghRA2EdvcxTh",
        "colab_type": "text"
      },
      "cell_type": "markdown",
      "source": [
        "3. Realizar una función que devuelva sucesión Fibonacci, teniendo como parámetro la cantidad de términos"
      ]
    },
    {
      "metadata": {
        "id": "ZSBDiu3S4YsW",
        "colab_type": "text"
      },
      "cell_type": "markdown",
      "source": [
        "4. De la lista que se encuentra debajo, que tiene los datos de elevación de curvas de nivel, identificar los las curvas maestras, curvas intermedias y auxiliares, tales que:\n",
        "\n",
        "\n",
        "\n",
        "*   Las curvas maestras son divisibles por 200\n",
        "*   Las curvas secundarias son divisibles cada 50\n",
        "*   Las curvas auxiliares no tienen un patrón definido\n",
        "\n"
      ]
    },
    {
      "metadata": {
        "id": "vij3OD824Yf8",
        "colab_type": "code",
        "colab": {}
      },
      "cell_type": "code",
      "source": [
        "listaCN = [800, 1000, 800, 800, 400, 400, 400, 400, 400, 600, 600, 800, 800, 800, 600, 1200, 1200, 1200, 800, 1200, 1400, 1200, 1200, 1000, 800, 1000, 1600, 1600, 400, 250, 300, 300, 300, 350, 350, 350, 350, 350, 650, 450, 500, 500, 500, 450, 350, 350, 350, 650, 850, 850, 700, 750, 850, 1050, 1050, 1050, 1050, 1050, 1100, 1050, 700, 750, 750, 400, 400, 350, 250, 1150, 1550, 1500, 1450, 1300, 1250, 1350, 900, 850, 700, 700, 900, 950, 950, 900, 750, 900, 950, 1150, 700, 750, 750, 750, 700, 1300, 1350, 850, 1250, 1250, 1350, 1300, 1450, 650, 700, 850, 900, 850, 850, 1250, 1250, 1250, 1250, 1250, 1300, 1100, 1050, 1300, 1250, 1100, 1350, 1350, 900, 700, 700, 1250, 1200, 1400, 1400, 1200, 1000, 2200, 2000, 2400, 2000, 2200, 2150, 2150, 1400, 1400, 2050, 2050, 2050, 2100, 2150, 2100, 900, 1000, 2100, 2350, 2350, 2500, 2500, 2500, 2550, 1650, 450, 500, 550, 550, 500, 700, 600, 400, 500, 450, 400, 350, 250, 350, 350, 650, 600, 500, 500, 500, 550, 550, 550, 400, 550, 600, 500, 550, 550, 450, 650, 500, 550, 450, 650, 800, 1000, 1400, 1200, 750, 700, 550, 700, 950, 1100, 850, 1150, 1050, 1100, 2000, 2400, 1800, 2000, 1850, 1900, 1950, 2050, 2100, 2350, 2450, 1050, 1100, 1000, 900, 850, 800, 750, 800, 750, 700, 650, 350, 400, 450, 500, 600, 600, 550, 650, 700, 700, 650, 600, 650, 400, 350, 300, 400, 550, 650, 600, 450, 500, 450, 500, 600, 550, 1600, 950, 550, 450, 2250, 400, 500, 550, 400, 550, 600, 500, 2150, 1950, 2200, 2300, 1900, 1850, 2100, 2050, 1550, 1750, 1650, 1700, 1400, 1250, 1350, 1300, 1200, 1150, 1450, 1500]"
      ],
      "execution_count": 0,
      "outputs": []
    },
    {
      "metadata": {
        "id": "g3XEyzlBBABl",
        "colab_type": "text"
      },
      "cell_type": "markdown",
      "source": [
        "5. Agregar la densidad de cada region al diccionario"
      ]
    },
    {
      "metadata": {
        "id": "h2Q5cO0EBA-1",
        "colab_type": "code",
        "colab": {}
      },
      "cell_type": "code",
      "source": [
        "ciudad = {\"AMAZONAS\":{\"AREA\":39659.16,\"DEPCOD\":\"01\",\"POBLACION\":379384},\"ANCASH\":{\"AREA\":35898.24,\"DEPCOD\":\"02\",\"POBLACION\":1083519},\"APURIMAC\":{\"AREA\":21113.63,\"DEPCOD\":\"03\",\"POBLACION\":405759},\"AREQUIPA\":{\"AREA\":63315.08,\"DEPCOD\":\"04\",\"POBLACION\":1382730},\"AYACUCHO\":{\"AREA\":43571.72,\"DEPCOD\":\"05\",\"POBLACION\":616176},\"CAJAMARCA\":{\"AREA\":33002.3,\"DEPCOD\":\"06\",\"POBLACION\":1341012},\"CALLAO\":{\"AREA\":156.5002,\"DEPCOD\":\"07\",\"POBLACION\":994494},\"CUSCO\":{\"AREA\":72337.00,\"DEPCOD\":\"08\",\"POBLACION\":1205527},\"HUANCAVELICA\":{\"AREA\":22060.99,\"DEPCOD\":\"09\",\"POBLACION\":347639},\"HUANUCO\":{\"AREA\":37068.11,\"DEPCOD\":\"10\",\"POBLACION\":721047},\"ICA\":{\"AREA\":21084.59,\"DEPCOD\":\"11\",\"POBLACION\":850765},\"JUNIN\":{\"AREA\":44601.11,\"DEPCOD\":\"12\",\"POBLACION\":1246038},\"LALIBERTAD\":{\"AREA\":25311.83,\"DEPCOD\":\"13\",\"POBLACION\":1778080},\"LAMBAYEQUE\":{\"AREA\":14331.75,\"DEPCOD\":\"14\",\"POBLACION\":1197260},\"LIMA\":{\"AREA\":34983.62,\"DEPCOD\":\"15\",\"POBLACION\":9485405},\"LORETO\":{\"AREA\":375442.4,\"DEPCOD\":\"16\",\"POBLACION\":883510},\"MADREDEDIOS\":{\"AREA\":85020.52,\"DEPCOD\":\"17\",\"POBLACION\":141070},\"MOQUEGUA\":{\"AREA\":15810.29,\"DEPCOD\":\"18\",\"POBLACION\":174863},\"PASCO\":{\"AREA\":23962.61,\"DEPCOD\":\"19\",\"POBLACION\":254065},\"PIURA\":{\"AREA\":36064.12,\"DEPCOD\":\"20\",\"POBLACION\":1856809},\"PUNO\":{\"AREA\":67858.29,\"DEPCOD\":\"21\",\"POBLACION\":1172697},\"SANMARTIN\":{\"AREA\":50422.56,\"DEPCOD\":\"22\",\"POBLACION\":813381},\"TACNA\":{\"AREA\":16055.31,\"DEPCOD\":\"23\",\"POBLACION\":329332},\"TUMBES\":{\"AREA\":4701.135,\"DEPCOD\":\"24\",\"POBLACION\":224863},\"UCAYALI\":{\"AREA\":105081.8,\"DEPCOD\":\"25\",\"POBLACION\":496459}}"
      ],
      "execution_count": 0,
      "outputs": []
    },
    {
      "metadata": {
        "id": "kx2YZWlhTcRm",
        "colab_type": "text"
      },
      "cell_type": "markdown",
      "source": [
        "6. Hacer un programa que pida un usuario y contraseña, y sólo deje pasar si las credenciales son válidas"
      ]
    },
    {
      "metadata": {
        "id": "xcaS3Oj3DkDY",
        "colab_type": "text"
      },
      "cell_type": "markdown",
      "source": [
        "### Nivel Thanos:"
      ]
    },
    {
      "metadata": {
        "id": "RzOUnGSfDpsa",
        "colab_type": "text"
      },
      "cell_type": "markdown",
      "source": [
        "1. Calcular el ángulo entre dos líneas, teniendo un área de influencia (buffer) y el radio."
      ]
    },
    {
      "metadata": {
        "id": "SDjTWXrHYoB-",
        "colab_type": "text"
      },
      "cell_type": "markdown",
      "source": [
        "![texto alternativo](https://www.cinepremiere.com.mx/wp-content/uploads/2019/04/snap.gif)"
      ]
    }
  ]
}