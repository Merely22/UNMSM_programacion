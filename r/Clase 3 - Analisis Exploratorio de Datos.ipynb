{
 "cells": [
  {
   "cell_type": "markdown",
   "metadata": {},
   "source": [
    "# Clase 3 - Analisis Exploratorio de Datos"
   ]
  },
  {
   "cell_type": "markdown",
   "metadata": {},
   "source": [
    "## Carga y/o instalacion de paquetes"
   ]
  },
  {
   "cell_type": "code",
   "execution_count": null,
   "metadata": {},
   "outputs": [],
   "source": [
    "library(tidyverse)\n",
    "library(funModeling)\n",
    "library(Hmisc)"
   ]
  },
  {
   "cell_type": "markdown",
   "metadata": {},
   "source": [
    "## Carga de datos"
   ]
  },
  {
   "cell_type": "code",
   "execution_count": null,
   "metadata": {},
   "outputs": [],
   "source": [
    "## Ya vienen con el paquete funModeling: heart_disease \n",
    "heart_disease=heart_disease"
   ]
  },
  {
   "cell_type": "markdown",
   "metadata": {},
   "source": [
    "## Análisis exploratorio de datos"
   ]
  },
  {
   "cell_type": "code",
   "execution_count": null,
   "metadata": {},
   "outputs": [],
   "source": [
    "## Análisis inicial de datos: df_status\n",
    "df_status(heart_disease)"
   ]
  },
  {
   "cell_type": "code",
   "execution_count": null,
   "metadata": {},
   "outputs": [],
   "source": [
    "## Gráficos de distribución (variable numérica): plot_num\n",
    "plot_num(heart_disease)"
   ]
  },
  {
   "cell_type": "code",
   "execution_count": null,
   "metadata": {},
   "outputs": [],
   "source": [
    "## Descripción cuantitativa (números...): summary, describe, profiling_num\n",
    "summary(heart_disease)\n",
    "describe(heart_disease)\n",
    "profiling_num(heart_disease)"
   ]
  },
  {
   "cell_type": "code",
   "execution_count": null,
   "metadata": {},
   "outputs": [],
   "source": [
    "## Gráficos de distribución (variable categorica): freq\n",
    "freq(heart_disease)"
   ]
  },
  {
   "cell_type": "code",
   "execution_count": null,
   "metadata": {},
   "outputs": [],
   "source": [
    "tbl=freq(heart_disease$chest_pain, path_out = \"graficos\")\n",
    "tbl"
   ]
  },
  {
   "cell_type": "markdown",
   "metadata": {},
   "source": [
    "## Evaluacion 3"
   ]
  },
  {
   "cell_type": "code",
   "execution_count": null,
   "metadata": {},
   "outputs": [],
   "source": [
    "# Nota 1: Recuerden cargar todas las librerias necesarias si no lo hicieron.\n",
    "# Nota 2: Fijense en su directorio de trabajo (working directory)\n",
    "#   sino, no les encontrará el archivo que estén leyendo de la carpeta data (ej: \"data/c1_r_peliculas_hollywood.csv\")\n",
    "\n",
    "## 1 - Cargar el set de datos \"data/bank.csv\".\n",
    "## Los datos historicos reprentan si los clientes hicieron o no un deposito. \n",
    "## Indicado en la variable \"deposit\" (variable a predecir).\n",
    "\n",
    "## 2 - Hacer una descripcion visual y numérica de las variables numericas (`plot_num`). \n",
    "\n",
    "# a) ¿Se observa algo raro?, ¿Qué variables parecen tener valores extremos o outliers?\n",
    "\n",
    "# b) ¿Hay nulos (NA)?\n",
    "  \n",
    "# c) ¿Todas las variables están en los rangos correctos?\n",
    "\n",
    "## 3 - Hacer una descripcion visual variables categoricas (función `freq`)\n",
    "## ¿Se observa algo raro (como una mala carga de datos)? (ayuda: ver variable a predecir) \n",
    "\n",
    "## 5 - ¿Cuál es el rango de 'age' en donde se concentran el 80% de los datos?\n",
    "\n",
    "## 6 - Remover los valores extremos de la variable age \n",
    "## asignandole el percentil 98 a todo lo que le supere. \n",
    "\n",
    "# 6a - Calcular percentil 98\n",
    "\n",
    "# 6b - Obtener el vector flag (TRUE/FALSE) de todo lo que lo supere\n",
    "\n",
    "# 6c - Asignar el valor de 6a), y verificar la distribución de nuevo"
   ]
  },
  {
   "cell_type": "markdown",
   "metadata": {},
   "source": [
    "## Material extra"
   ]
  },
  {
   "cell_type": "code",
   "execution_count": null,
   "metadata": {},
   "outputs": [],
   "source": [
    "# Introducción al análisis numérico: https://librovivodecienciadedatos.ai/analisis-exploratorio-de-datos.html#analisis_numerico\n",
    "# Análisis de variables numéricas: https://librovivodecienciadedatos.ai/analisis-exploratorio-de-datos.html#analisis-de-variables-numericas\n",
    "# Análisis de variables categóricas: https://librovivodecienciadedatos.ai/analisis-exploratorio-de-datos.html#analisis-variables-categoricas\n",
    "# ¿Qué son los percentiles?: https://librovivodecienciadedatos.ai/apendice.html#apendice-percentiles\n",
    "# Valores outliers: https://librovivodecienciadedatos.ai/preparacion-de-datos.html#tratamiento_valores_atipicos"
   ]
  }
 ],
 "metadata": {
  "kernelspec": {
   "display_name": "R",
   "language": "R",
   "name": "ir"
  },
  "language_info": {
   "codemirror_mode": "r",
   "file_extension": ".r",
   "mimetype": "text/x-r-source",
   "name": "R",
   "pygments_lexer": "r",
   "version": "3.6.1"
  }
 },
 "nbformat": 4,
 "nbformat_minor": 2
}
