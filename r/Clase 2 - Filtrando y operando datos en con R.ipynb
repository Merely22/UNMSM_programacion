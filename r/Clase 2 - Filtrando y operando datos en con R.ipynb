{
 "cells": [
  {
   "cell_type": "markdown",
   "metadata": {},
   "source": [
    "# Clase 2 - Filtrando y operando datos en con R"
   ]
  },
  {
   "cell_type": "code",
   "execution_count": null,
   "metadata": {},
   "outputs": [],
   "source": [
    "## Filosofía de R para manejo de datos\n",
    "##########################################\n",
    "# creando un vector de character\n",
    "v_prov=c(\"huaral\", \"canta\", \"huarochiri\", \"cañete\")\n",
    "v_prov"
   ]
  },
  {
   "cell_type": "code",
   "execution_count": null,
   "metadata": {},
   "outputs": [],
   "source": [
    "# obteniendo un vector de comparacion (y lo asignamos a una variable para filtrar despues)\n",
    "v_flag=v_prov==\"canta\"\n",
    "v_flag"
   ]
  },
  {
   "cell_type": "code",
   "execution_count": null,
   "metadata": {},
   "outputs": [],
   "source": [
    "# reemplazando canta por yauyos\n",
    "v_prov[v_flag]\n",
    "\n",
    "v_prov[v_flag]=\"yauyos\"\n",
    "\n",
    "v_prov"
   ]
  },
  {
   "cell_type": "code",
   "execution_count": null,
   "metadata": {},
   "outputs": [],
   "source": [
    "vec2=c(\"A\", \"A\", \"B\", \"B\", \"C\")\n",
    "\n",
    "vec2[vec2==\"A\"]=\"A2\"\n",
    "vec2"
   ]
  },
  {
   "cell_type": "code",
   "execution_count": null,
   "metadata": {},
   "outputs": [],
   "source": [
    "## Filtrando data frames - valores faltantes (NA)\n",
    "library(tidyverse)\n",
    "data_holly=read_delim(\"../data/c1_r_peliculas_hollywood.csv\", delim = \",\")\n",
    "head(data_holly)"
   ]
  },
  {
   "cell_type": "code",
   "execution_count": null,
   "metadata": {},
   "outputs": [],
   "source": [
    "## Tambien sirve para filtrar: Obtener todas las peliculas cuyo LeadStudio sea \"Sony\"\n",
    "v_flag_sony=data_holly$LeadStudio==\"Sony\"\n",
    "v_flag_sony"
   ]
  },
  {
   "cell_type": "code",
   "execution_count": 15,
   "metadata": {},
   "outputs": [],
   "source": [
    "# filtrando (1er intento):\n",
    "data_sony_1=data_holly[v_flag_sony,]"
   ]
  },
  {
   "cell_type": "code",
   "execution_count": null,
   "metadata": {},
   "outputs": [],
   "source": [
    "## Introducción a nulos (NA)\n",
    "is.na(data_holly$LeadStudio)\n",
    "v_na_lead_studio=is.na(data_holly$LeadStudio)"
   ]
  },
  {
   "cell_type": "code",
   "execution_count": 17,
   "metadata": {},
   "outputs": [],
   "source": [
    "# ok :D\n",
    "data_sony_3=data_holly[v_flag_sony & !v_na_lead_studio,]"
   ]
  },
  {
   "cell_type": "code",
   "execution_count": null,
   "metadata": {},
   "outputs": [],
   "source": [
    "# Operadores lógicos\n",
    "\n",
    "a=TRUE\n",
    "a=T\n",
    "b=FALSE\n",
    "b=F\n",
    "\n",
    "T & T\n",
    "T & F\n",
    "\n",
    "T | T\n",
    "T | F\n",
    "\n",
    "!a"
   ]
  },
  {
   "cell_type": "markdown",
   "metadata": {},
   "source": [
    "## Evaluación 2"
   ]
  },
  {
   "cell_type": "code",
   "execution_count": null,
   "metadata": {},
   "outputs": [],
   "source": [
    "# Nota 1: Recuerden cargar todas las librerias necesarias si no lo hicieron.\n",
    "# Nota 2: Fijense en su directorio de trabajo (working directory)\n",
    "\n",
    "## 1- Obtener un data set con todas las peliculas que tienen NA en la columna `Genre`. \n",
    "# (tener cargado el data set ../data/c1_r_peliculas_hollywood.csv)\n",
    "\n",
    "## 2 - Convertir la pelicula \"Parker\" en la más \n",
    "## popular de todas según la variable `RottenTomatoes` (valor de 100). Luego explorar los datos.\n",
    "\n",
    "# copia para no perder los datos originales (buena practica)\n",
    "\n",
    "## 3 - Crear un data frame que tenga todas las peliculas que posean la variable RottenTomatoes\n",
    "## y ForeignGross nulas al mismo tiempo (tienen que combinar el 'is.na' con el '&')\n"
   ]
  },
  {
   "cell_type": "markdown",
   "metadata": {},
   "source": [
    "## Material extra"
   ]
  },
  {
   "cell_type": "code",
   "execution_count": null,
   "metadata": {},
   "outputs": [],
   "source": [
    "# Datos faltantes o nulos: https://librovivodecienciadedatos.ai/preparacion-de-datos.html#datos_faltantes"
   ]
  }
 ],
 "metadata": {
  "kernelspec": {
   "display_name": "R",
   "language": "R",
   "name": "ir"
  },
  "language_info": {
   "codemirror_mode": "r",
   "file_extension": ".r",
   "mimetype": "text/x-r-source",
   "name": "R",
   "pygments_lexer": "r",
   "version": "3.6.1"
  }
 },
 "nbformat": 4,
 "nbformat_minor": 2
}
