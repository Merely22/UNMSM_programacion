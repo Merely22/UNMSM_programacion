{
  "nbformat": 4,
  "nbformat_minor": 0,
  "metadata": {
    "colab": {
      "name": "clase02_SintaxisR.ipynb",
      "provenance": [],
      "collapsed_sections": [],
      "authorship_tag": "ABX9TyPe2IWWYmj9wRhDlpltkZo2",
      "include_colab_link": true
    },
    "kernelspec": {
      "name": "ir",
      "display_name": "R"
    }
  },
  "cells": [
    {
      "cell_type": "markdown",
      "metadata": {
        "id": "view-in-github",
        "colab_type": "text"
      },
      "source": [
        "<a href=\"https://colab.research.google.com/github/ryali93/UNMSM_programacion/blob/master/r/clase02_SintaxisR.ipynb\" target=\"_parent\"><img src=\"https://colab.research.google.com/assets/colab-badge.svg\" alt=\"Open In Colab\"/></a>"
      ]
    },
    {
      "cell_type": "markdown",
      "metadata": {
        "id": "yl-YIrNzFMac",
        "colab_type": "text"
      },
      "source": [
        "# Clase 02"
      ]
    },
    {
      "cell_type": "markdown",
      "metadata": {
        "id": "c8k5IMq9FPqp",
        "colab_type": "text"
      },
      "source": [
        "# SINTAXIS Y TIPOS DE DATOS"
      ]
    },
    {
      "cell_type": "markdown",
      "metadata": {
        "id": "gLXKRJjCFS1S",
        "colab_type": "text"
      },
      "source": [
        "En esta lección revisaremos los tipos de datos, operaciones aritméticas básicas, cómo se pueden almacenar los datos en diferentes estrucutras de datos en R y sobre el concepto de objetos en la programación.\n"
      ]
    },
    {
      "cell_type": "markdown",
      "metadata": {
        "id": "5pCWjl0hG5K9",
        "colab_type": "text"
      },
      "source": [
        "## 2.1 Asignación de variables\n",
        "\n",
        "Un objeto puede ser creado con el operador **assignar** el cual se denota como una flecha con el signo menor y el símbolo **>** o **<** dependiendo de la dirección en el que asigna el objeto:"
      ]
    },
    {
      "cell_type": "code",
      "metadata": {
        "id": "H-PXvePPHbj9",
        "colab_type": "code",
        "colab": {
          "base_uri": "https://localhost:8080/",
          "height": 34
        },
        "outputId": "2e5c6c21-dbf8-4e71-a6dc-5ce1feb45376"
      },
      "source": [
        "n <- 15\n",
        "n"
      ],
      "execution_count": 1,
      "outputs": [
        {
          "output_type": "display_data",
          "data": {
            "text/plain": [
              "[1] 15"
            ],
            "text/latex": "15",
            "text/markdown": "15",
            "text/html": [
              "15"
            ]
          },
          "metadata": {
            "tags": []
          }
        }
      ]
    },
    {
      "cell_type": "code",
      "metadata": {
        "id": "N_cbuI_7Hegw",
        "colab_type": "code",
        "colab": {
          "base_uri": "https://localhost:8080/",
          "height": 34
        },
        "outputId": "8c159751-b281-4aec-fda8-6f95c929f19d"
      },
      "source": [
        "6 -> n\n",
        "n"
      ],
      "execution_count": 2,
      "outputs": [
        {
          "output_type": "display_data",
          "data": {
            "text/plain": [
              "[1] 6"
            ],
            "text/latex": "6",
            "text/markdown": "6",
            "text/html": [
              "6"
            ]
          },
          "metadata": {
            "tags": []
          }
        }
      ]
    },
    {
      "cell_type": "code",
      "metadata": {
        "id": "tEq1o5GzHefp",
        "colab_type": "code",
        "colab": {}
      },
      "source": [
        "# Se debe considerar que \"sensitive case\" (diferencia entre minúsculas y mayúsculas)\n",
        "x <− 1\n",
        "X <− 10\n",
        "x"
      ],
      "execution_count": null,
      "outputs": []
    },
    {
      "cell_type": "code",
      "metadata": {
        "id": "S3CniIimHeeK",
        "colab_type": "code",
        "colab": {}
      },
      "source": [
        "X"
      ],
      "execution_count": null,
      "outputs": []
    },
    {
      "cell_type": "markdown",
      "metadata": {
        "id": "DWMgJCmfIt7A",
        "colab_type": "text"
      },
      "source": [
        "- *No olvidar que las variables no pueden tener nombres que empiecen con números*\n",
        "- *Evitar nombres en uso (variables reservadas como **for**, **NaN**)*"
      ]
    },
    {
      "cell_type": "markdown",
      "metadata": {
        "id": "TrhsoN04Ff17",
        "colab_type": "text"
      },
      "source": [
        "## 2.2 Tipos de datos\n",
        "\n",
        "Los principales tipos de datos posibles en R son:\n",
        "\n",
        "- **Lógico (logical):** Son datos que sólo permite los valores lógicos verdadero (T / TRUE) o falso (F / FALSE)\n",
        "- **Numérico (numeric):** Son datos que pueden contener números reales\n",
        "- **Complejo (complex):** Son datos que pueden contener números complejos\n",
        "- **Caracter (character):** Son caracteres, no tienen valor numérico\n"
      ]
    },
    {
      "cell_type": "markdown",
      "metadata": {
        "id": "Ymg58rbwNJbo",
        "colab_type": "text"
      },
      "source": [
        "**Números**"
      ]
    },
    {
      "cell_type": "code",
      "metadata": {
        "id": "2kvgTUTMFO-K",
        "colab_type": "code",
        "colab": {
          "base_uri": "https://localhost:8080/",
          "height": 51
        },
        "outputId": "e760072a-945c-4b16-d2a9-72f0bb9ac8a2"
      },
      "source": [
        "a <- 3        # esto es un número entero [int].\n",
        "sprintf(\"a es: %s\", class(a))\n",
        "print(a)"
      ],
      "execution_count": 10,
      "outputs": [
        {
          "output_type": "display_data",
          "data": {
            "text/plain": [
              "[1] \"a es: numeric\""
            ],
            "text/latex": "'a es: numeric'",
            "text/markdown": "'a es: numeric'",
            "text/html": [
              "'a es: numeric'"
            ]
          },
          "metadata": {
            "tags": []
          }
        },
        {
          "output_type": "stream",
          "text": [
            "[1] 3\n"
          ],
          "name": "stdout"
        }
      ]
    },
    {
      "cell_type": "code",
      "metadata": {
        "id": "vbm7CpuVFILI",
        "colab_type": "code",
        "colab": {
          "base_uri": "https://localhost:8080/",
          "height": 51
        },
        "outputId": "0353e87f-dca2-461e-fa45-961da22300be"
      },
      "source": [
        "b <- 39.747  # esto es un número de coma flotante (float)\n",
        "sprintf(\"b es: %s\", class(b))\n",
        "print(b)"
      ],
      "execution_count": 12,
      "outputs": [
        {
          "output_type": "display_data",
          "data": {
            "text/plain": [
              "[1] \"b es: numeric\""
            ],
            "text/latex": "'b es: numeric'",
            "text/markdown": "'b es: numeric'",
            "text/html": [
              "'b es: numeric'"
            ]
          },
          "metadata": {
            "tags": []
          }
        },
        {
          "output_type": "stream",
          "text": [
            "[1] 39.747\n"
          ],
          "name": "stdout"
        }
      ]
    },
    {
      "cell_type": "code",
      "metadata": {
        "id": "t3fZk9hwKjqM",
        "colab_type": "code",
        "colab": {
          "base_uri": "https://localhost:8080/",
          "height": 51
        },
        "outputId": "da0773a0-f369-4108-9430-a71f393ee634"
      },
      "source": [
        "z <- 4 + 6i   # esto es un número complejo \n",
        "sprintf(\"z es: %s\", class(z))\n",
        "print(z)"
      ],
      "execution_count": 15,
      "outputs": [
        {
          "output_type": "display_data",
          "data": {
            "text/plain": [
              "[1] \"z es: complex\""
            ],
            "text/latex": "'z es: complex'",
            "text/markdown": "'z es: complex'",
            "text/html": [
              "'z es: complex'"
            ]
          },
          "metadata": {
            "tags": []
          }
        },
        {
          "output_type": "stream",
          "text": [
            "[1] 4+6i\n"
          ],
          "name": "stdout"
        }
      ]
    },
    {
      "cell_type": "markdown",
      "metadata": {
        "id": "qr59bIK7NL1H",
        "colab_type": "text"
      },
      "source": [
        "**Cadena de texto (caracteres)**"
      ]
    },
    {
      "cell_type": "code",
      "metadata": {
        "id": "lTV6Fh9FKp7U",
        "colab_type": "code",
        "colab": {
          "base_uri": "https://localhost:8080/",
          "height": 51
        },
        "outputId": "fd21c276-4c55-4514-cc9a-99a14859ba60"
      },
      "source": [
        "c1 <- \"Bienvenido año nuevo \"    # esto es una cadena de caracteres.\n",
        "sprintf(\"c1 es: %s\", class(c1))\n",
        "print(c1)"
      ],
      "execution_count": 16,
      "outputs": [
        {
          "output_type": "display_data",
          "data": {
            "text/plain": [
              "[1] \"c1 es: character\""
            ],
            "text/latex": "'c1 es: character'",
            "text/markdown": "'c1 es: character'",
            "text/html": [
              "'c1 es: character'"
            ]
          },
          "metadata": {
            "tags": []
          }
        },
        {
          "output_type": "stream",
          "text": [
            "[1] \"Bienvenido año nuevo \"\n"
          ],
          "name": "stdout"
        }
      ]
    },
    {
      "cell_type": "code",
      "metadata": {
        "id": "Prr7Ui_wNSAe",
        "colab_type": "code",
        "colab": {
          "base_uri": "https://localhost:8080/",
          "height": 51
        },
        "outputId": "62c4ce0d-0a1d-42e8-ffdc-295eff0734cb"
      },
      "source": [
        "c2 <- \"2019\"          # esto es una cadena de caracteres. \n",
        "sprintf(\"c2 es: %s\", class(c2))\n",
        "print(c2)"
      ],
      "execution_count": 17,
      "outputs": [
        {
          "output_type": "display_data",
          "data": {
            "text/plain": [
              "[1] \"c2 es: character\""
            ],
            "text/latex": "'c2 es: character'",
            "text/markdown": "'c2 es: character'",
            "text/html": [
              "'c2 es: character'"
            ]
          },
          "metadata": {
            "tags": []
          }
        },
        {
          "output_type": "stream",
          "text": [
            "[1] \"2019\"\n"
          ],
          "name": "stdout"
        }
      ]
    },
    {
      "cell_type": "code",
      "metadata": {
        "id": "Ng_cy8OvNR_g",
        "colab_type": "code",
        "colab": {
          "base_uri": "https://localhost:8080/",
          "height": 34
        },
        "outputId": "e6a7ef43-098a-4513-9c6f-a0d1528a5fd4"
      },
      "source": [
        "sprintf(\"%s - %s\", c1, c2)"
      ],
      "execution_count": 21,
      "outputs": [
        {
          "output_type": "display_data",
          "data": {
            "text/plain": [
              "[1] \"Bienvenido año nuevo  - 2019\""
            ],
            "text/latex": "'Bienvenido año nuevo  - 2019'",
            "text/markdown": "<span style=white-space:pre-wrap>'Bienvenido año nuevo  - 2019'</span>",
            "text/html": [
              "<span style=white-space:pre-wrap>'Bienvenido año nuevo  - 2019'</span>"
            ]
          },
          "metadata": {
            "tags": []
          }
        }
      ]
    },
    {
      "cell_type": "markdown",
      "metadata": {
        "id": "B0n95EHBOCEK",
        "colab_type": "text"
      },
      "source": [
        "**Booleanos:**\n",
        "\n",
        "El tipo booleano sólo puede tener dos valores: TRUE / T (cierto) y FALSE / F (falso). Estos valores son especialmente importantes para las expresiones condicionales y los bucles."
      ]
    },
    {
      "cell_type": "code",
      "metadata": {
        "id": "9hhTaDDVN7uL",
        "colab_type": "code",
        "colab": {
          "base_uri": "https://localhost:8080/",
          "height": 34
        },
        "outputId": "babce5be-a52c-4afa-fe1d-b0a48434d9e8"
      },
      "source": [
        "# Conjunción\n",
        "TRUE & TRUE\n",
        "# TRUE and FALSE"
      ],
      "execution_count": 22,
      "outputs": [
        {
          "output_type": "display_data",
          "data": {
            "text/plain": [
              "[1] TRUE"
            ],
            "text/latex": "TRUE",
            "text/markdown": "TRUE",
            "text/html": [
              "TRUE"
            ]
          },
          "metadata": {
            "tags": []
          }
        }
      ]
    },
    {
      "cell_type": "code",
      "metadata": {
        "id": "Dxb_h_5kOMKy",
        "colab_type": "code",
        "colab": {
          "base_uri": "https://localhost:8080/",
          "height": 34
        },
        "outputId": "b384077d-49e4-4fdd-9917-42ab8da53684"
      },
      "source": [
        "# Disyunción\n",
        "# TRUE | TRUE\n",
        "# TRUE | FALSE\n",
        "FALSE | FALSE"
      ],
      "execution_count": 23,
      "outputs": [
        {
          "output_type": "display_data",
          "data": {
            "text/plain": [
              "[1] FALSE"
            ],
            "text/latex": "FALSE",
            "text/markdown": "FALSE",
            "text/html": [
              "FALSE"
            ]
          },
          "metadata": {
            "tags": []
          }
        }
      ]
    },
    {
      "cell_type": "markdown",
      "metadata": {
        "id": "g4c3XLGVOYMA",
        "colab_type": "text"
      },
      "source": [
        "**Ejemplos:**"
      ]
    },
    {
      "cell_type": "code",
      "metadata": {
        "id": "ZElHmAJPOaE_",
        "colab_type": "code",
        "colab": {}
      },
      "source": [
        "dd <- !TRUE"
      ],
      "execution_count": null,
      "outputs": []
    },
    {
      "cell_type": "code",
      "metadata": {
        "id": "lhyFPPWDO_2T",
        "colab_type": "code",
        "colab": {}
      },
      "source": [
        "!!!!!TRUE"
      ],
      "execution_count": null,
      "outputs": []
    },
    {
      "cell_type": "code",
      "metadata": {
        "id": "U5OPLRILO_vG",
        "colab_type": "code",
        "colab": {}
      },
      "source": [
        "(4 < 5) & (5 < 6)"
      ],
      "execution_count": null,
      "outputs": []
    },
    {
      "cell_type": "code",
      "metadata": {
        "id": "hTpL8XQDPTRc",
        "colab_type": "code",
        "colab": {}
      },
      "source": [
        "(4 < 5) & (9 < 6)"
      ],
      "execution_count": null,
      "outputs": []
    },
    {
      "cell_type": "code",
      "metadata": {
        "id": "gSvhgjQiPTPU",
        "colab_type": "code",
        "colab": {}
      },
      "source": [
        "x1 <- (1 == 2) | (2 == 2)\n",
        "x2 <- (1 == 2) & (2 == 2)\n",
        "\n",
        "sprintf(\"x1 es: %s\", x1)\n",
        "sprintf(\"x2 es: %s\", x2)"
      ],
      "execution_count": null,
      "outputs": []
    },
    {
      "cell_type": "code",
      "metadata": {
        "id": "5Ra9I-PIPTM4",
        "colab_type": "code",
        "colab": {}
      },
      "source": [
        "2 + 2 == 4 & ! 2 + 2 == 5 & 2 * 2 == 2 + 2"
      ],
      "execution_count": null,
      "outputs": []
    },
    {
      "cell_type": "code",
      "metadata": {
        "id": "1PpdhXqHPrHr",
        "colab_type": "code",
        "colab": {}
      },
      "source": [
        "nombre <- 'CHOSICA'\n",
        "id_station <- 202906\n",
        "longitud <- 76 + 41/60 + 23.8/3600   # 76° 41'23.8\n",
        "latitud <- 11 + 55/60 + 48.5/3600    # 11° 55'48.5\"\n",
        "tipo <- 'Hidrometrica'\n",
        "fecha <- \"28-02-1998\""
      ],
      "execution_count": 35,
      "outputs": []
    },
    {
      "cell_type": "markdown",
      "metadata": {
        "id": "wnsbolRaP1Oa",
        "colab_type": "text"
      },
      "source": [
        "Podemos explorar los diferentes tipos de datos almacenados en variables usando la función **class()**."
      ]
    },
    {
      "cell_type": "code",
      "metadata": {
        "id": "ynnWgcfTP7Dx",
        "colab_type": "code",
        "colab": {}
      },
      "source": [
        "class(nombre)"
      ],
      "execution_count": null,
      "outputs": []
    },
    {
      "cell_type": "code",
      "metadata": {
        "id": "zDQBOni7P6-n",
        "colab_type": "code",
        "colab": {}
      },
      "source": [
        "class(id_station)"
      ],
      "execution_count": null,
      "outputs": []
    },
    {
      "cell_type": "code",
      "metadata": {
        "id": "VlGPcnwzP62w",
        "colab_type": "code",
        "colab": {}
      },
      "source": [
        "class(latitud)"
      ],
      "execution_count": null,
      "outputs": []
    },
    {
      "cell_type": "code",
      "metadata": {
        "id": "0pc-a64UP6zy",
        "colab_type": "code",
        "colab": {}
      },
      "source": [
        "class(tipo)"
      ],
      "execution_count": null,
      "outputs": []
    },
    {
      "cell_type": "markdown",
      "metadata": {
        "id": "JX76izrZQEYD",
        "colab_type": "text"
      },
      "source": [
        "**Métodos de cadenas**\n",
        "\n",
        "Recuerde que los tipos de datos son importantes porque algunos no son compatibles entre sí."
      ]
    },
    {
      "cell_type": "code",
      "metadata": {
        "id": "g65Ejpv4QLwx",
        "colab_type": "code",
        "colab": {}
      },
      "source": [
        "nombre + id_station"
      ],
      "execution_count": null,
      "outputs": []
    },
    {
      "cell_type": "markdown",
      "metadata": {
        "id": "IUEwtWZXQRiW",
        "colab_type": "text"
      },
      "source": [
        "Aquí obtenemos un Error porque R no sabe cómo combinar una cadena de caracteres (nombre) con un valor entero (id_station).\n",
        "\n",
        "En otros lenguajes de programación es necesario escribir o declarar variables antes que puedan almacenar cualquier cosa en ellas. Esto no es necesario cuando trabajas con cadenas de caracteres en R.\n"
      ]
    },
    {
      "cell_type": "code",
      "metadata": {
        "id": "AoWJg_iBQaoy",
        "colab_type": "code",
        "colab": {}
      },
      "source": [
        "cadena1 <- \"océano \"\n",
        "cadena2 <- \"atmósfera\"\n",
        "\n",
        "cadena <- paste(\"Interacción \", cadena1, cadena2)\n",
        "print(cadena)"
      ],
      "execution_count": null,
      "outputs": []
    },
    {
      "cell_type": "code",
      "metadata": {
        "id": "cowUHSlBQpXL",
        "colab_type": "code",
        "colab": {}
      },
      "source": [
        "cadena1 <- \"océano \"\n",
        "cadena2 <- \"atmósfera\"\n",
        "\n",
        "cadena <- paste(\"Interacción \", cadena1,  cadena2)\n",
        "print(cadena)\n",
        "\n",
        "cadena1 <- \"océano\"\n",
        "cadena2 <- \"atmósfera\"\n",
        "cadena <- paste(\"Interacción \", cadena1,  cadena2)\n",
        "print(cadena)"
      ],
      "execution_count": null,
      "outputs": []
    },
    {
      "cell_type": "code",
      "metadata": {
        "id": "D3CW9VSnRChx",
        "colab_type": "code",
        "colab": {
          "base_uri": "https://localhost:8080/",
          "height": 34
        },
        "outputId": "fd4d3318-7101-41c0-8030-585c4b98c3fe"
      },
      "source": [
        "cadena <- \"123\"\n",
        "numero <- as.character(123)\n",
        "c <- paste(cadena, numero)\n",
        "print(c)"
      ],
      "execution_count": 49,
      "outputs": [
        {
          "output_type": "stream",
          "text": [
            "[1] \"123 123\"\n"
          ],
          "name": "stdout"
        }
      ]
    },
    {
      "cell_type": "markdown",
      "metadata": {
        "id": "7QTBsFweRQ5j",
        "colab_type": "text"
      },
      "source": [
        "**Determinar el número de caracteres de una cadena**\n",
        "\n",
        "La función **nchar** devuelve el número de caracteres de una cadena. Esto es considerando la cantidad de caracteres y espacios en blanco."
      ]
    },
    {
      "cell_type": "code",
      "metadata": {
        "id": "hVIUwEWgRQYV",
        "colab_type": "code",
        "colab": {}
      },
      "source": [
        "cadena1 <- \"océano\"\n",
        "print(nchar(cadena1))\n",
        "\n",
        "cadena2 <- \"atmósfera\"\n",
        "print(nchar(cadena2))\n",
        "\n",
        "cadena <- paste0(\"Interacción \", cadena1, cadena2)\n",
        "print(nchar(cadena))"
      ],
      "execution_count": null,
      "outputs": []
    },
    {
      "cell_type": "markdown",
      "metadata": {
        "id": "KKfm-r7sRCRb",
        "colab_type": "text"
      },
      "source": [
        "**Convertir: Mayúsculas y minúsculas**\n",
        "\n",
        "R a diferencia de otros lenguajes tiene una orientación más funcional. En este caso, existen algunas funciones que nos permiten pasar a mayúsculas o minúsculas.\n",
        "\n",
        "**toupper():** devuelve una copia de la cadena con todos los caracteres como mayúsculas.\n",
        "\n",
        "**tolower():** devuelve una copia de la cadena con todos los caracteres como minúsculas."
      ]
    },
    {
      "cell_type": "code",
      "metadata": {
        "id": "JFVKD_b2aIii",
        "colab_type": "code",
        "colab": {}
      },
      "source": [
        "cadena1 = \"océano \"\n",
        "cadena2 = \"ATMOSFERA\"\n",
        "\n",
        "print(toupper(cadena1))\n",
        "print(tolower(cadena2))"
      ],
      "execution_count": null,
      "outputs": []
    },
    {
      "cell_type": "markdown",
      "metadata": {
        "id": "IcYP7Q9uaaEH",
        "colab_type": "text"
      },
      "source": [
        "**Convertir datos de un tipo a otro**\n",
        "\n",
        "En el caso que variables como **nombre** y **id_station** no puedan combinarse en absoluto. Para combinar una cadena de caracteres con un número necesitamos realizar una conversión de tipo de datos para que sean compatibles. Por ejemplo, podríamos convertir el id_estation entero en una cadena de caracteres usando la función **as.character()**.\n"
      ]
    },
    {
      "cell_type": "code",
      "metadata": {
        "id": "kheKZAV-bGgu",
        "colab_type": "code",
        "colab": {
          "base_uri": "https://localhost:8080/",
          "height": 51
        },
        "outputId": "39347f89-ed48-4fb7-e556-05d0dd4e8800"
      },
      "source": [
        "id_station_str = as.character(id_station)\n",
        "print(id_station_str)\n",
        "print(class(id_station_str))"
      ],
      "execution_count": 69,
      "outputs": [
        {
          "output_type": "stream",
          "text": [
            "[1] \"202906\"\n",
            "[1] \"character\"\n"
          ],
          "name": "stdout"
        }
      ]
    },
    {
      "cell_type": "markdown",
      "metadata": {
        "id": "cy_eS_JVbFcf",
        "colab_type": "text"
      },
      "source": [
        "Como se puede ver, **as.character()** convierte un valor numérico en una cadena de caracteres con los mismos números que antes.\n",
        "\n",
        "Similar a usar **as.character()** para convertir números en cadenas de caracteres, **as.numeric()** se puede usar para convertir cadenas o números."
      ]
    },
    {
      "cell_type": "markdown",
      "metadata": {
        "id": "JbBt8nU5QRdz",
        "colab_type": "text"
      },
      "source": [
        "**Combinando texto y números**\n",
        "\n",
        "Aunque la mayoría de las operaciones matemáticas operan con valores numéricos, en R no es posible unir cadenas de texto con un simple +. Para esto usamos la función **paste()** o **paste0()**"
      ]
    },
    {
      "cell_type": "code",
      "metadata": {
        "id": "dr2zY3oacDy1",
        "colab_type": "code",
        "colab": {}
      },
      "source": [
        "nombreeid = paste0(nombre, \": \", as.character(id_station))\n",
        "print(nombreeid)"
      ],
      "execution_count": null,
      "outputs": []
    },
    {
      "cell_type": "markdown",
      "metadata": {
        "id": "dpEbNP5WP6j0",
        "colab_type": "text"
      },
      "source": [
        "Tenga en cuenta que aquí estamos convirtiendo id una cadena de caracteres utilizando la función **as.character()** dentro de la asignación a la variable nombreeid. Alternativamente, podríamos haber añadido simplemente nombre y id_station_str."
      ]
    },
    {
      "cell_type": "markdown",
      "metadata": {
        "id": "3_Dp8FbrP5EX",
        "colab_type": "text"
      },
      "source": [
        "## Tips"
      ]
    },
    {
      "cell_type": "markdown",
      "metadata": {
        "id": "PqOX6UpLP1K6",
        "colab_type": "text"
      },
      "source": [
        "### Ayuda\n",
        "\n",
        "Tal vez ya sabes el nombre de una función, pero todavía tiene que averiguar cómo usarlo.\n",
        "\n",
        "Irónicamente, hay que pedir información sobre una función con otra función: help().\n",
        "\n",
        "También se puede usar ?? antes del nombre de la función.\n",
        "\n",
        "Por último también se puede usar el botón **F1** para ver la documentación de una función en específico."
      ]
    },
    {
      "cell_type": "code",
      "metadata": {
        "id": "EdH5-jPSPrEG",
        "colab_type": "code",
        "colab": {}
      },
      "source": [
        "help(max)\n",
        "??max"
      ],
      "execution_count": 71,
      "outputs": []
    }
  ]
}