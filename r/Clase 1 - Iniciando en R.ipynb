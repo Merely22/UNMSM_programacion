{
 "cells": [
  {
   "cell_type": "markdown",
   "metadata": {},
   "source": [
    "# Clase 1 - Iniciando en R"
   ]
  },
  {
   "cell_type": "markdown",
   "metadata": {},
   "source": [
    "Comentario"
   ]
  },
  {
   "cell_type": "code",
   "execution_count": 3,
   "metadata": {},
   "outputs": [],
   "source": [
    "# Hola, soy un comentario :D !"
   ]
  },
  {
   "cell_type": "markdown",
   "metadata": {},
   "source": [
    "## Instalando y cargando paquetes"
   ]
  },
  {
   "cell_type": "code",
   "execution_count": null,
   "metadata": {},
   "outputs": [],
   "source": [
    "# Instalación de paquetes\n",
    "install.packages(\"tidyverse\")\n",
    "# Carga y/o instalación de paquetes\n",
    "library(tidyverse)"
   ]
  },
  {
   "cell_type": "markdown",
   "metadata": {},
   "source": [
    "## Carga de datos"
   ]
  },
  {
   "cell_type": "code",
   "execution_count": null,
   "metadata": {},
   "outputs": [],
   "source": [
    "## Carga de datos\n",
    "# nombre de archivo: data/winequality-white.csv \n",
    "# (si no carga revisar el \"working directory\" donde estan parados): \n",
    "# Session > Set working directory > Choose directory\n",
    "d_vino = read_delim('../data/c1_r_calidad_vinoblanco.csv', delim = \";\")"
   ]
  },
  {
   "cell_type": "code",
   "execution_count": null,
   "metadata": {},
   "outputs": [],
   "source": [
    "## Analisis inicial\n",
    "##########################################\n",
    "## Impresion de los datos\n",
    "d_vino"
   ]
  },
  {
   "cell_type": "markdown",
   "metadata": {},
   "source": [
    "## Revision de cantidad de filas/columnas "
   ]
  },
  {
   "cell_type": "code",
   "execution_count": null,
   "metadata": {},
   "outputs": [],
   "source": [
    "# Cantidad de registros\n",
    "nrow(d_vino)\n",
    "\n",
    "# Cantidad de columnas\n",
    "ncol(d_vino)\n",
    "\n",
    "## Nombre de columnas\n",
    "colnames(d_vino)\n",
    "\n",
    "## Una idea rápida o comprensión de cómo es algún objeto\n",
    "glimpse(d_vino)"
   ]
  },
  {
   "cell_type": "markdown",
   "metadata": {},
   "source": [
    "## Accediendo a los datos"
   ]
  },
  {
   "cell_type": "code",
   "execution_count": null,
   "metadata": {},
   "outputs": [],
   "source": [
    "################################\n",
    "# todo el registro nro 2\n",
    "d_vino[2,]\n",
    "\n",
    "# a un valor: registro nro 2 columna \"pH\"\n",
    "d_vino[2,\"pH\"]\n",
    "\n",
    "# reemplazando el contenido\n",
    "d_vino[2,\"pH\"]=99\n",
    "d_vino[2,\"pH\"]\n",
    "\n",
    "# Notacion d_vino[fila, columna]\n",
    "d_vino[c(1,2,3), \"pH\"]\n",
    "\n",
    "# * vignette(\"tibble\")"
   ]
  },
  {
   "cell_type": "code",
   "execution_count": null,
   "metadata": {},
   "outputs": [],
   "source": [
    "# Otras maneras de acceder a un valor: operador $\n",
    "d_vino$pH\n",
    "\n",
    "# Y como es un vector... podemos acceder a 1 valor\n",
    "d_vino$pH[2]"
   ]
  },
  {
   "cell_type": "markdown",
   "metadata": {},
   "source": [
    "## Estructura de datos"
   ]
  },
  {
   "cell_type": "markdown",
   "metadata": {},
   "source": [
    "### Tipos de datos (character, factor, integer, numeric)"
   ]
  },
  {
   "cell_type": "code",
   "execution_count": 22,
   "metadata": {},
   "outputs": [],
   "source": [
    "# integer\n",
    "a=7\n",
    "\n",
    "# numeric\n",
    "b=3.14\n",
    "\n",
    "# character\n",
    "c=\"hola mundo!\"\n",
    "\n",
    "# factor\n",
    "d=factor(\"a\")"
   ]
  },
  {
   "cell_type": "code",
   "execution_count": 23,
   "metadata": {},
   "outputs": [],
   "source": [
    "## Creando un vector\n",
    "v1=c(2,3,4,5,\"hola\")\n",
    "\n",
    "v2=c(\"A\", \"A\", \"B\")\n",
    "\n",
    "v3=factor(v2)\n",
    "\n",
    "v4=c(5,34,1)"
   ]
  },
  {
   "cell_type": "code",
   "execution_count": null,
   "metadata": {},
   "outputs": [],
   "source": [
    "## Creando un data frame / tibble\n",
    "df=data.frame(var1=v4, var2=v2)\n",
    "tib=tibble(var1=v4, var2=v2)\n",
    "\n",
    "df\n",
    "tib"
   ]
  },
  {
   "cell_type": "markdown",
   "metadata": {},
   "source": [
    "## Evaluación 1"
   ]
  },
  {
   "cell_type": "code",
   "execution_count": null,
   "metadata": {},
   "outputs": [],
   "source": [
    "# Nota 1: Recuerden cargar todas las librerias necesarias si no lo hicieron.\n",
    "# Nota 2: Fijense en su directorio de trabajo (working directory)\n",
    "\n",
    "## 1 - Cargar el set de datos \"../data/c1_r_peliculas_hollywood.csv\" (ojo con el separador!). \n",
    "\n",
    "## 2 - Cuantos registros y columnas tiene?\n",
    "\n",
    "## 3 - Imprimir una variable Budget, y luego el registro numero 10\n"
   ]
  },
  {
   "cell_type": "markdown",
   "metadata": {},
   "source": [
    "## Material extra"
   ]
  },
  {
   "cell_type": "code",
   "execution_count": null,
   "metadata": {},
   "outputs": [],
   "source": [
    "# Estado de salud de un conjunto de-datos\n",
    "# https://librovivodecienciadedatos.ai/analisis-exploratorio-de-datos.html#estado-de-salud-de-un-conjunto-de-datos\n",
    "# Introduction to readr (pertenece al tidyverse, y tiene la función read_delim entre otras):  \n",
    "# https://cran.r-project.org/web/packages/readr/vignettes/readr.html\n"
   ]
  }
 ],
 "metadata": {
  "kernelspec": {
   "display_name": "R",
   "language": "R",
   "name": "ir"
  },
  "language_info": {
   "codemirror_mode": "r",
   "file_extension": ".r",
   "mimetype": "text/x-r-source",
   "name": "R",
   "pygments_lexer": "r",
   "version": "3.6.1"
  }
 },
 "nbformat": 4,
 "nbformat_minor": 2
}
